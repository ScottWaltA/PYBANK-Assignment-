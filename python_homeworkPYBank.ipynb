{
 "cells": [
  {
   "cell_type": "code",
   "execution_count": 33,
   "metadata": {},
   "outputs": [
    {
     "name": "stdout",
     "output_type": "stream",
     "text": [
      "Financial Analysis\n",
      "--------------------------------------\n",
      "There are a total of 86 months in the dataset\n",
      "the total of all months is 38382578\n",
      "the average change 2.240599888834981e-06\n",
      "the greatest increase in 9\n",
      "The greatest decrease is 0\n"
     ]
    }
   ],
   "source": [
    "#import csv and define \n",
    "counter=0\n",
    "length=0\n",
    "importantvaluesnummonths=0\n",
    "importantvaluestotaloflst=0\n",
    "totalofmonths=0\n",
    "average=0\n",
    "\n",
    "from pathlib import Path\n",
    "import csv\n",
    "with open(\"budget_data.csv\", 'r') as csvfile:\n",
    "    csvreader = csv.reader(csvfile, delimiter=',')\n",
    "        \n",
    "    header=next(csvreader)\n",
    "    \n",
    "#for question 1 the number of months \n",
    "    for row in csvreader:\n",
    "        counter += 1\n",
    "        \n",
    "#for  question 2 the total of the whole list       \n",
    "        totalofmonths += int(row[1])\n",
    "\n",
    "#for qiestion 3 the average\n",
    "        average=counter/totalofmonths \n",
    "\n",
    "        \n",
    "#for question 4  the highest number in the list\n",
    "#def highest(values)\n",
    "    maxoflist=max(row[1])\n",
    "\n",
    "#for question 5 the lowest number in the list \n",
    "#def lowest(values) \n",
    "    leastoflist=min(row[1])\n",
    "\n",
    "\n",
    "        \n",
    "#print everything\n",
    "print(\"Financial Analysis\")\n",
    "print(\"--------------------------------------\")\n",
    "print(f\"There are a total of {counter} months in the dataset\")\n",
    "print(f\"the total of all months is {totalofmonths}\")\n",
    "print(f\"the average change {average}\")\n",
    "print(f\"the greatest increase in {maxoflist}\")\n",
    "print(f\"The greatest decrease is {leastoflist}\")\n",
    "\n",
    "\n",
    "\n",
    "\n",
    "    "
   ]
  },
  {
   "cell_type": "code",
   "execution_count": null,
   "metadata": {},
   "outputs": [],
   "source": []
  },
  {
   "cell_type": "code",
   "execution_count": null,
   "metadata": {},
   "outputs": [],
   "source": []
  },
  {
   "cell_type": "code",
   "execution_count": null,
   "metadata": {},
   "outputs": [],
   "source": []
  }
 ],
 "metadata": {
  "kernelspec": {
   "display_name": "Python 3",
   "language": "python",
   "name": "python3"
  },
  "language_info": {
   "codemirror_mode": {
    "name": "ipython",
    "version": 3
   },
   "file_extension": ".py",
   "mimetype": "text/x-python",
   "name": "python",
   "nbconvert_exporter": "python",
   "pygments_lexer": "ipython3",
   "version": "3.8.5"
  }
 },
 "nbformat": 4,
 "nbformat_minor": 4
}
